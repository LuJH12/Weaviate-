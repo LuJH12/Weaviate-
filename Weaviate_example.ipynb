{
 "cells": [
  {
   "cell_type": "code",
   "execution_count": 8,
   "id": "056b4e3e",
   "metadata": {
    "ExecuteTime": {
     "end_time": "2023-07-17T12:16:17.126666Z",
     "start_time": "2023-07-17T12:16:17.117530Z"
    },
    "scrolled": true
   },
   "outputs": [],
   "source": [
    "import weaviate\n",
    "from langchain.document_loaders import DirectoryLoader, WebBaseLoader\n",
    "import pandas as pd"
   ]
  },
  {
   "cell_type": "markdown",
   "id": "b6f94924",
   "metadata": {},
   "source": [
    "# Weaviate"
   ]
  },
  {
   "cell_type": "code",
   "execution_count": 27,
   "id": "190efcd2",
   "metadata": {
    "ExecuteTime": {
     "end_time": "2023-07-17T12:20:19.067095Z",
     "start_time": "2023-07-17T12:20:18.003378Z"
    }
   },
   "outputs": [],
   "source": [
    "# 定义client\n",
    "client = weaviate.Client(url='http://localhost:8080')\n",
    "class_name = 'Stephen_Chow'"
   ]
  },
  {
   "cell_type": "markdown",
   "id": "5bd0ec36",
   "metadata": {},
   "source": [
    "## weaviate参数定义"
   ]
  },
  {
   "cell_type": "code",
   "execution_count": 28,
   "id": "b6344ac6",
   "metadata": {
    "ExecuteTime": {
     "end_time": "2023-07-17T12:20:20.145415Z",
     "start_time": "2023-07-17T12:20:20.142768Z"
    }
   },
   "outputs": [],
   "source": [
    "class_obj = {\n",
    "    'class': class_name,         # class的名字\n",
    "    'vectorIndexConfig':{\n",
    "        'distance': 'l2-squared',   # 这里的distance是选择向量检索方式，这里选择的是欧式距离\n",
    "    },\n",
    "}"
   ]
  },
  {
   "cell_type": "markdown",
   "id": "243538ff",
   "metadata": {},
   "source": [
    "## 创建或删除class"
   ]
  },
  {
   "cell_type": "code",
   "execution_count": 29,
   "id": "e080ce03",
   "metadata": {
    "ExecuteTime": {
     "end_time": "2023-07-17T12:20:21.424394Z",
     "start_time": "2023-07-17T12:20:21.414507Z"
    }
   },
   "outputs": [],
   "source": [
    "# 创建class\n",
    "client.schema.create_class(class_obj)\n",
    "# 如果想删除以前的class\n",
    "# client.schema.delete_class(class_name='area')"
   ]
  },
  {
   "cell_type": "markdown",
   "id": "5ae9d83c",
   "metadata": {},
   "source": [
    "# 数据处理"
   ]
  },
  {
   "cell_type": "code",
   "execution_count": 16,
   "id": "1e3bb360",
   "metadata": {
    "ExecuteTime": {
     "end_time": "2023-07-17T12:17:07.619913Z",
     "start_time": "2023-07-17T12:17:07.576577Z"
    },
    "scrolled": true
   },
   "outputs": [
    {
     "data": {
      "text/html": [
       "<div>\n",
       "<style scoped>\n",
       "    .dataframe tbody tr th:only-of-type {\n",
       "        vertical-align: middle;\n",
       "    }\n",
       "\n",
       "    .dataframe tbody tr th {\n",
       "        vertical-align: top;\n",
       "    }\n",
       "\n",
       "    .dataframe thead th {\n",
       "        text-align: right;\n",
       "    }\n",
       "</style>\n",
       "<table border=\"1\" class=\"dataframe\">\n",
       "  <thead>\n",
       "    <tr style=\"text-align: right;\">\n",
       "      <th></th>\n",
       "      <th>sentence</th>\n",
       "    </tr>\n",
       "  </thead>\n",
       "  <tbody>\n",
       "    <tr>\n",
       "      <th>0</th>\n",
       "      <td>人生如果没有梦想，那和咸鱼有什么区别。</td>\n",
       "    </tr>\n",
       "    <tr>\n",
       "      <th>1</th>\n",
       "      <td>小强!小强你怎么了小强?小强，你不能死啊!我跟你相依为命，同甘共苦了这么多年，一直把你当亲生...</td>\n",
       "    </tr>\n",
       "    <tr>\n",
       "      <th>2</th>\n",
       "      <td>曾经有一份真诚的爱摆在我的面前，但是我没有珍惜，等到失去的时候才后悔莫及，尘世间最痛苦的事莫...</td>\n",
       "    </tr>\n",
       "    <tr>\n",
       "      <th>3</th>\n",
       "      <td>屎，你是一滩屎。命比蚁便宜。我开奔驰，你挖鼻屎。吃饭!?吃屎吧你!</td>\n",
       "    </tr>\n",
       "    <tr>\n",
       "      <th>4</th>\n",
       "      <td>杀人这种事，我整天都有这种想法的。</td>\n",
       "    </tr>\n",
       "    <tr>\n",
       "      <th>5</th>\n",
       "      <td>本来我要用这10元钱念书，当个医生、律师，但为了世界和平……唉!</td>\n",
       "    </tr>\n",
       "    <tr>\n",
       "      <th>6</th>\n",
       "      <td>你可以叫我跑龙套的，但是请不要在前面加个“死”字好不好?</td>\n",
       "    </tr>\n",
       "    <tr>\n",
       "      <th>7</th>\n",
       "      <td>其实，我是一个演员。</td>\n",
       "    </tr>\n",
       "    <tr>\n",
       "      <th>8</th>\n",
       "      <td>要很努力，很努力，才能做到一点点的成功。</td>\n",
       "    </tr>\n",
       "    <tr>\n",
       "      <th>9</th>\n",
       "      <td>除暴安良是我们做市民的责任，行善积德是我本身的兴趣，所以扶老太太过马路我每个星期都做一次，如...</td>\n",
       "    </tr>\n",
       "    <tr>\n",
       "      <th>10</th>\n",
       "      <td>现实的爱情和电影里的不一样，现实当中不要太遗憾，也不要太真真实实，不要化为灰烬那样子。愉快是...</td>\n",
       "    </tr>\n",
       "    <tr>\n",
       "      <th>11</th>\n",
       "      <td>我觉得电影里面一定要有情，但是我的情是比较广义的情，它不但只有爱情，还有像朋友之间的情，兄弟...</td>\n",
       "    </tr>\n",
       "    <tr>\n",
       "      <th>12</th>\n",
       "      <td>在我的每一部电影里都有情感，而且这些情感比较纯粹和单纯，是因为我觉得情感对于每个人来说都是非...</td>\n",
       "    </tr>\n",
       "    <tr>\n",
       "      <th>13</th>\n",
       "      <td>你还是回火星吧，地球是很危险的。</td>\n",
       "    </tr>\n",
       "    <tr>\n",
       "      <th>14</th>\n",
       "      <td>我对你的敬仰有如滔滔水，联绵不绝，又如黄河绝堤一发不可收拾。</td>\n",
       "    </tr>\n",
       "    <tr>\n",
       "      <th>15</th>\n",
       "      <td>在杀我之前求你答应我一件事 --说吧 --放了我。</td>\n",
       "    </tr>\n",
       "    <tr>\n",
       "      <th>16</th>\n",
       "      <td>凭你的智慧，我很难跟你解释!</td>\n",
       "    </tr>\n",
       "    <tr>\n",
       "      <th>17</th>\n",
       "      <td>一万年太久，爱我，就现在。</td>\n",
       "    </tr>\n",
       "    <tr>\n",
       "      <th>18</th>\n",
       "      <td>不记得了也好，忘却也是一种幸福。</td>\n",
       "    </tr>\n",
       "    <tr>\n",
       "      <th>19</th>\n",
       "      <td>喜欢一个人需要理由吗?需要吗?不需要吗?需要吗?</td>\n",
       "    </tr>\n",
       "  </tbody>\n",
       "</table>\n",
       "</div>"
      ],
      "text/plain": [
       "                                             sentence\n",
       "0                                 人生如果没有梦想，那和咸鱼有什么区别。\n",
       "1   小强!小强你怎么了小强?小强，你不能死啊!我跟你相依为命，同甘共苦了这么多年，一直把你当亲生...\n",
       "2   曾经有一份真诚的爱摆在我的面前，但是我没有珍惜，等到失去的时候才后悔莫及，尘世间最痛苦的事莫...\n",
       "3                   屎，你是一滩屎。命比蚁便宜。我开奔驰，你挖鼻屎。吃饭!?吃屎吧你!\n",
       "4                                   杀人这种事，我整天都有这种想法的。\n",
       "5                    本来我要用这10元钱念书，当个医生、律师，但为了世界和平……唉!\n",
       "6                        你可以叫我跑龙套的，但是请不要在前面加个“死”字好不好?\n",
       "7                                          其实，我是一个演员。\n",
       "8                                要很努力，很努力，才能做到一点点的成功。\n",
       "9   除暴安良是我们做市民的责任，行善积德是我本身的兴趣，所以扶老太太过马路我每个星期都做一次，如...\n",
       "10  现实的爱情和电影里的不一样，现实当中不要太遗憾，也不要太真真实实，不要化为灰烬那样子。愉快是...\n",
       "11  我觉得电影里面一定要有情，但是我的情是比较广义的情，它不但只有爱情，还有像朋友之间的情，兄弟...\n",
       "12  在我的每一部电影里都有情感，而且这些情感比较纯粹和单纯，是因为我觉得情感对于每个人来说都是非...\n",
       "13                                   你还是回火星吧，地球是很危险的。\n",
       "14                     我对你的敬仰有如滔滔水，联绵不绝，又如黄河绝堤一发不可收拾。\n",
       "15                          在杀我之前求你答应我一件事 --说吧 --放了我。\n",
       "16                                     凭你的智慧，我很难跟你解释!\n",
       "17                                      一万年太久，爱我，就现在。\n",
       "18                                   不记得了也好，忘却也是一种幸福。\n",
       "19                           喜欢一个人需要理由吗?需要吗?不需要吗?需要吗?"
      ]
     },
     "execution_count": 16,
     "metadata": {},
     "output_type": "execute_result"
    }
   ],
   "source": [
    "# 导入数据\n",
    "df = pd.read_csv('data.csv', encoding='GB18030')\n",
    "df"
   ]
  },
  {
   "cell_type": "code",
   "execution_count": 19,
   "id": "6b579330",
   "metadata": {
    "ExecuteTime": {
     "end_time": "2023-07-17T12:17:53.293061Z",
     "start_time": "2023-07-17T12:17:53.288305Z"
    }
   },
   "outputs": [],
   "source": [
    "# 专成list形式\n",
    "sentence_data = df.sentence.tolist()"
   ]
  },
  {
   "cell_type": "markdown",
   "id": "8ca4f302",
   "metadata": {},
   "source": [
    "# 定义embeddings模型"
   ]
  },
  {
   "cell_type": "code",
   "execution_count": 20,
   "id": "f105335c",
   "metadata": {
    "ExecuteTime": {
     "end_time": "2023-07-17T12:18:32.742535Z",
     "start_time": "2023-07-17T12:18:24.363400Z"
    }
   },
   "outputs": [
    {
     "name": "stderr",
     "output_type": "stream",
     "text": [
      "/media/ubuntu_data/LukJH/anaconda/envs/ljh_llm_env/lib/python3.9/site-packages/tqdm/auto.py:21: TqdmWarning: IProgress not found. Please update jupyter and ipywidgets. See https://ipywidgets.readthedocs.io/en/stable/user_install.html\n",
      "  from .autonotebook import tqdm as notebook_tqdm\n",
      "No sentence-transformers model found with name emb_model/text2vec-large-chinese. Creating a new one with MEAN pooling.\n"
     ]
    },
    {
     "data": {
      "text/plain": [
       "array([[ 0.07883023, -0.7958345 , -0.3155929 , ...,  1.2939562 ,\n",
       "         0.05681886,  0.68244064],\n",
       "       [-0.46256578,  0.10221019, -0.07999119, ...,  1.5513865 ,\n",
       "         0.39791292, -0.30931145],\n",
       "       [-0.5512182 , -0.50856495,  0.6594512 , ..., -0.04717647,\n",
       "        -0.8090207 , -0.76115984],\n",
       "       ...,\n",
       "       [-1.6151336 , -0.07856621,  1.0403824 , ...,  0.508074  ,\n",
       "         0.26066488, -0.72345275],\n",
       "       [-0.5566714 , -1.0310702 , -0.78030396, ...,  0.3580936 ,\n",
       "        -0.9182949 ,  0.28291687],\n",
       "       [-0.04114265, -0.9631913 ,  0.29949385, ...,  0.48185617,\n",
       "        -0.47320065,  0.00453359]], dtype=float32)"
      ]
     },
     "execution_count": 20,
     "metadata": {},
     "output_type": "execute_result"
    }
   ],
   "source": [
    "# 定义embeddings模型\n",
    "from sentence_transformers import SentenceTransformer\n",
    "model = SentenceTransformer('emb_model/text2vec-large-chinese')   # embeddings模型路径\n",
    "\n",
    "# 句子向量化\n",
    "sentence_embeddings = model.encode(sentence_data)\n",
    "# sentence_embeddings = model.encode(sentence_data)\n",
    "sentence_embeddings"
   ]
  },
  {
   "cell_type": "markdown",
   "id": "6ad82dca",
   "metadata": {},
   "source": [
    "# 整合数据到DataFrame里"
   ]
  },
  {
   "cell_type": "code",
   "execution_count": 30,
   "id": "0aa9b795",
   "metadata": {
    "ExecuteTime": {
     "end_time": "2023-07-17T12:20:24.822513Z",
     "start_time": "2023-07-17T12:20:24.784740Z"
    },
    "scrolled": true
   },
   "outputs": [
    {
     "data": {
      "text/html": [
       "<div>\n",
       "<style scoped>\n",
       "    .dataframe tbody tr th:only-of-type {\n",
       "        vertical-align: middle;\n",
       "    }\n",
       "\n",
       "    .dataframe tbody tr th {\n",
       "        vertical-align: top;\n",
       "    }\n",
       "\n",
       "    .dataframe thead th {\n",
       "        text-align: right;\n",
       "    }\n",
       "</style>\n",
       "<table border=\"1\" class=\"dataframe\">\n",
       "  <thead>\n",
       "    <tr style=\"text-align: right;\">\n",
       "      <th></th>\n",
       "      <th>sentence</th>\n",
       "      <th>embeddings</th>\n",
       "    </tr>\n",
       "  </thead>\n",
       "  <tbody>\n",
       "    <tr>\n",
       "      <th>0</th>\n",
       "      <td>人生如果没有梦想，那和咸鱼有什么区别。</td>\n",
       "      <td>[0.07883022725582123, -0.795834481716156, -0.3...</td>\n",
       "    </tr>\n",
       "    <tr>\n",
       "      <th>1</th>\n",
       "      <td>小强!小强你怎么了小强?小强，你不能死啊!我跟你相依为命，同甘共苦了这么多年，一直把你当亲生...</td>\n",
       "      <td>[-0.4625657796859741, 0.10221018642187119, -0....</td>\n",
       "    </tr>\n",
       "    <tr>\n",
       "      <th>2</th>\n",
       "      <td>曾经有一份真诚的爱摆在我的面前，但是我没有珍惜，等到失去的时候才后悔莫及，尘世间最痛苦的事莫...</td>\n",
       "      <td>[-0.5512182116508484, -0.5085649490356445, 0.6...</td>\n",
       "    </tr>\n",
       "    <tr>\n",
       "      <th>3</th>\n",
       "      <td>屎，你是一滩屎。命比蚁便宜。我开奔驰，你挖鼻屎。吃饭!?吃屎吧你!</td>\n",
       "      <td>[0.22441639006137848, -0.45846372842788696, -0...</td>\n",
       "    </tr>\n",
       "    <tr>\n",
       "      <th>4</th>\n",
       "      <td>杀人这种事，我整天都有这种想法的。</td>\n",
       "      <td>[0.025575688108801842, 0.15084435045719147, -1...</td>\n",
       "    </tr>\n",
       "    <tr>\n",
       "      <th>5</th>\n",
       "      <td>本来我要用这10元钱念书，当个医生、律师，但为了世界和平……唉!</td>\n",
       "      <td>[0.05777275189757347, 0.34411829710006714, -0....</td>\n",
       "    </tr>\n",
       "    <tr>\n",
       "      <th>6</th>\n",
       "      <td>你可以叫我跑龙套的，但是请不要在前面加个“死”字好不好?</td>\n",
       "      <td>[-1.0173733234405518, -0.7639865875244141, -1....</td>\n",
       "    </tr>\n",
       "    <tr>\n",
       "      <th>7</th>\n",
       "      <td>其实，我是一个演员。</td>\n",
       "      <td>[0.18424586951732635, -1.0897544622421265, -0....</td>\n",
       "    </tr>\n",
       "    <tr>\n",
       "      <th>8</th>\n",
       "      <td>要很努力，很努力，才能做到一点点的成功。</td>\n",
       "      <td>[0.23395083844661713, -1.1595344543457031, 1.2...</td>\n",
       "    </tr>\n",
       "    <tr>\n",
       "      <th>9</th>\n",
       "      <td>除暴安良是我们做市民的责任，行善积德是我本身的兴趣，所以扶老太太过马路我每个星期都做一次，如...</td>\n",
       "      <td>[-0.7226650714874268, 0.02695402503013611, -1....</td>\n",
       "    </tr>\n",
       "    <tr>\n",
       "      <th>10</th>\n",
       "      <td>现实的爱情和电影里的不一样，现实当中不要太遗憾，也不要太真真实实，不要化为灰烬那样子。愉快是...</td>\n",
       "      <td>[0.29685479402542114, -1.7088825702667236, -0....</td>\n",
       "    </tr>\n",
       "    <tr>\n",
       "      <th>11</th>\n",
       "      <td>我觉得电影里面一定要有情，但是我的情是比较广义的情，它不但只有爱情，还有像朋友之间的情，兄弟...</td>\n",
       "      <td>[0.1771526038646698, -0.4584895074367523, -0.2...</td>\n",
       "    </tr>\n",
       "    <tr>\n",
       "      <th>12</th>\n",
       "      <td>在我的每一部电影里都有情感，而且这些情感比较纯粹和单纯，是因为我觉得情感对于每个人来说都是非...</td>\n",
       "      <td>[-0.7092893719673157, -0.9025522470474243, 0.5...</td>\n",
       "    </tr>\n",
       "    <tr>\n",
       "      <th>13</th>\n",
       "      <td>你还是回火星吧，地球是很危险的。</td>\n",
       "      <td>[-0.407290518283844, -1.6143922805786133, -0.1...</td>\n",
       "    </tr>\n",
       "    <tr>\n",
       "      <th>14</th>\n",
       "      <td>我对你的敬仰有如滔滔水，联绵不绝，又如黄河绝堤一发不可收拾。</td>\n",
       "      <td>[-0.4788740277290344, -0.3796166777610779, -0....</td>\n",
       "    </tr>\n",
       "    <tr>\n",
       "      <th>15</th>\n",
       "      <td>在杀我之前求你答应我一件事 --说吧 --放了我。</td>\n",
       "      <td>[-0.5704865455627441, 0.5712807178497314, -1.0...</td>\n",
       "    </tr>\n",
       "    <tr>\n",
       "      <th>16</th>\n",
       "      <td>凭你的智慧，我很难跟你解释!</td>\n",
       "      <td>[0.2076970785856247, -0.4937407672405243, 0.10...</td>\n",
       "    </tr>\n",
       "    <tr>\n",
       "      <th>17</th>\n",
       "      <td>一万年太久，爱我，就现在。</td>\n",
       "      <td>[-1.6151336431503296, -0.07856620848178864, 1....</td>\n",
       "    </tr>\n",
       "    <tr>\n",
       "      <th>18</th>\n",
       "      <td>不记得了也好，忘却也是一种幸福。</td>\n",
       "      <td>[-0.5566713809967041, -1.0310702323913574, -0....</td>\n",
       "    </tr>\n",
       "    <tr>\n",
       "      <th>19</th>\n",
       "      <td>喜欢一个人需要理由吗?需要吗?不需要吗?需要吗?</td>\n",
       "      <td>[-0.041142649948596954, -0.9631912708282471, 0...</td>\n",
       "    </tr>\n",
       "  </tbody>\n",
       "</table>\n",
       "</div>"
      ],
      "text/plain": [
       "                                             sentence  \\\n",
       "0                                 人生如果没有梦想，那和咸鱼有什么区别。   \n",
       "1   小强!小强你怎么了小强?小强，你不能死啊!我跟你相依为命，同甘共苦了这么多年，一直把你当亲生...   \n",
       "2   曾经有一份真诚的爱摆在我的面前，但是我没有珍惜，等到失去的时候才后悔莫及，尘世间最痛苦的事莫...   \n",
       "3                   屎，你是一滩屎。命比蚁便宜。我开奔驰，你挖鼻屎。吃饭!?吃屎吧你!   \n",
       "4                                   杀人这种事，我整天都有这种想法的。   \n",
       "5                    本来我要用这10元钱念书，当个医生、律师，但为了世界和平……唉!   \n",
       "6                        你可以叫我跑龙套的，但是请不要在前面加个“死”字好不好?   \n",
       "7                                          其实，我是一个演员。   \n",
       "8                                要很努力，很努力，才能做到一点点的成功。   \n",
       "9   除暴安良是我们做市民的责任，行善积德是我本身的兴趣，所以扶老太太过马路我每个星期都做一次，如...   \n",
       "10  现实的爱情和电影里的不一样，现实当中不要太遗憾，也不要太真真实实，不要化为灰烬那样子。愉快是...   \n",
       "11  我觉得电影里面一定要有情，但是我的情是比较广义的情，它不但只有爱情，还有像朋友之间的情，兄弟...   \n",
       "12  在我的每一部电影里都有情感，而且这些情感比较纯粹和单纯，是因为我觉得情感对于每个人来说都是非...   \n",
       "13                                   你还是回火星吧，地球是很危险的。   \n",
       "14                     我对你的敬仰有如滔滔水，联绵不绝，又如黄河绝堤一发不可收拾。   \n",
       "15                          在杀我之前求你答应我一件事 --说吧 --放了我。   \n",
       "16                                     凭你的智慧，我很难跟你解释!   \n",
       "17                                      一万年太久，爱我，就现在。   \n",
       "18                                   不记得了也好，忘却也是一种幸福。   \n",
       "19                           喜欢一个人需要理由吗?需要吗?不需要吗?需要吗?   \n",
       "\n",
       "                                           embeddings  \n",
       "0   [0.07883022725582123, -0.795834481716156, -0.3...  \n",
       "1   [-0.4625657796859741, 0.10221018642187119, -0....  \n",
       "2   [-0.5512182116508484, -0.5085649490356445, 0.6...  \n",
       "3   [0.22441639006137848, -0.45846372842788696, -0...  \n",
       "4   [0.025575688108801842, 0.15084435045719147, -1...  \n",
       "5   [0.05777275189757347, 0.34411829710006714, -0....  \n",
       "6   [-1.0173733234405518, -0.7639865875244141, -1....  \n",
       "7   [0.18424586951732635, -1.0897544622421265, -0....  \n",
       "8   [0.23395083844661713, -1.1595344543457031, 1.2...  \n",
       "9   [-0.7226650714874268, 0.02695402503013611, -1....  \n",
       "10  [0.29685479402542114, -1.7088825702667236, -0....  \n",
       "11  [0.1771526038646698, -0.4584895074367523, -0.2...  \n",
       "12  [-0.7092893719673157, -0.9025522470474243, 0.5...  \n",
       "13  [-0.407290518283844, -1.6143922805786133, -0.1...  \n",
       "14  [-0.4788740277290344, -0.3796166777610779, -0....  \n",
       "15  [-0.5704865455627441, 0.5712807178497314, -1.0...  \n",
       "16  [0.2076970785856247, -0.4937407672405243, 0.10...  \n",
       "17  [-1.6151336431503296, -0.07856620848178864, 1....  \n",
       "18  [-0.5566713809967041, -1.0310702323913574, -0....  \n",
       "19  [-0.041142649948596954, -0.9631912708282471, 0...  "
      ]
     },
     "execution_count": 30,
     "metadata": {},
     "output_type": "execute_result"
    }
   ],
   "source": [
    "# 将句子和embeddings后的数据整合到DataFrame里面\n",
    "data = {'sentence':sentence_data,\n",
    "        'embeddings':sentence_embeddings.tolist()}\n",
    "df = pd.DataFrame(data)\n",
    "df"
   ]
  },
  {
   "cell_type": "markdown",
   "id": "e6106db4",
   "metadata": {},
   "source": [
    "# Weaviate数据导入"
   ]
  },
  {
   "cell_type": "code",
   "execution_count": 31,
   "id": "7b99ff7d",
   "metadata": {
    "ExecuteTime": {
     "end_time": "2023-07-17T12:20:26.734052Z",
     "start_time": "2023-07-17T12:20:26.666624Z"
    },
    "scrolled": true
   },
   "outputs": [
    {
     "name": "stdout",
     "output_type": "stream",
     "text": [
      "importing data: 1\n",
      "importing data: 2\n",
      "importing data: 3\n",
      "importing data: 4\n",
      "importing data: 5\n",
      "importing data: 6\n",
      "importing data: 7\n",
      "importing data: 8\n",
      "importing data: 9\n",
      "importing data: 10\n",
      "importing data: 11\n",
      "importing data: 12\n",
      "importing data: 13\n",
      "importing data: 14\n",
      "importing data: 15\n",
      "importing data: 16\n",
      "importing data: 17\n",
      "importing data: 18\n",
      "importing data: 19\n",
      "importing data: 20\n",
      "import completed\n"
     ]
    }
   ],
   "source": [
    "with client.batch(\n",
    "    batch_size=100\n",
    ") as batch:\n",
    "    for i in range(df.shape[0]):\n",
    "#         if i%20 == 0:\n",
    "        print('importing data: {}'.format(i+1))\n",
    "        # 定义properties\n",
    "        properties = {\n",
    "            'sentence_id': i+1,          # 这里是句子id, [1, 2, 3, ...]\n",
    "            'sentence': df.sentence[i],  # 这里是句子内容\n",
    "#             'embeddings': df.embeddings[i],\n",
    "        }\n",
    "        custom_vector = df.embeddings[i] # 这里是句子向量化后的数据\n",
    "        # 导入数据\n",
    "        client.batch.add_data_object(\n",
    "            properties,\n",
    "            class_name=class_name,\n",
    "            vector=custom_vector\n",
    "        )\n",
    "print('import completed')"
   ]
  },
  {
   "cell_type": "markdown",
   "id": "b75e32f3",
   "metadata": {},
   "source": [
    "# 用户输入转化"
   ]
  },
  {
   "cell_type": "code",
   "execution_count": 32,
   "id": "5b2b823d",
   "metadata": {
    "ExecuteTime": {
     "end_time": "2023-07-17T12:20:55.597713Z",
     "start_time": "2023-07-17T12:20:55.536877Z"
    }
   },
   "outputs": [],
   "source": [
    "query = model.encode(['除暴安良'])[0].tolist()   # 这里将问题进行embeddings\n",
    "nearVector = {\n",
    "    'vector': query\n",
    "}"
   ]
  },
  {
   "cell_type": "code",
   "execution_count": 33,
   "id": "0b25a5a0",
   "metadata": {
    "ExecuteTime": {
     "end_time": "2023-07-17T12:21:08.200150Z",
     "start_time": "2023-07-17T12:21:08.174524Z"
    },
    "scrolled": true
   },
   "outputs": [],
   "source": [
    "response = (\n",
    "    client.query\n",
    "    .get(class_name, ['sentence_id', 'sentence']) # 第一个参数为class名字，第二个参数为需要显示的信息\n",
    "    .with_near_vector(nearVector)             # 使用向量检索，nearVector为输入问题的向量形式\n",
    "    .with_limit(5)                            # 返回个数(TopK)，这里选择返回5个\n",
    "    .with_additional(['distance'])            # 选择是否输出距离\n",
    "    .do()\n",
    ")"
   ]
  },
  {
   "cell_type": "code",
   "execution_count": 34,
   "id": "d6887e8d",
   "metadata": {
    "ExecuteTime": {
     "end_time": "2023-07-17T12:21:09.816672Z",
     "start_time": "2023-07-17T12:21:09.813535Z"
    },
    "scrolled": true
   },
   "outputs": [
    {
     "name": "stdout",
     "output_type": "stream",
     "text": [
      "{\n",
      "  \"data\": {\n",
      "    \"Get\": {\n",
      "      \"Stephen_Chow\": [\n",
      "        {\n",
      "          \"_additional\": {\n",
      "            \"distance\": 769.15155\n",
      "          },\n",
      "          \"sentence\": \"\\u9664\\u66b4\\u5b89\\u826f\\u662f\\u6211\\u4eec\\u505a\\u5e02\\u6c11\\u7684\\u8d23\\u4efb\\uff0c\\u884c\\u5584\\u79ef\\u5fb7\\u662f\\u6211\\u672c\\u8eab\\u7684\\u5174\\u8da3\\uff0c\\u6240\\u4ee5\\u6276\\u8001\\u592a\\u592a\\u8fc7\\u9a6c\\u8def\\u6211\\u6bcf\\u4e2a\\u661f\\u671f\\u90fd\\u505a\\u4e00\\u6b21\\uff0c\\u5982\\u679c\\u662f\\u78b0\\u5230\\u56fd\\u5b9a\\u5047\\u65e5\\u7684\\u8bdd\\u6211\\u8fd8\\u505a\\u591a\\u4e24\\u4e09\\u6b21\\u3002\",\n",
      "          \"sentence_id\": 10\n",
      "        },\n",
      "        {\n",
      "          \"_additional\": {\n",
      "            \"distance\": 934.29016\n",
      "          },\n",
      "          \"sentence\": \"\\u5c0f\\u5f3a!\\u5c0f\\u5f3a\\u4f60\\u600e\\u4e48\\u4e86\\u5c0f\\u5f3a?\\u5c0f\\u5f3a\\uff0c\\u4f60\\u4e0d\\u80fd\\u6b7b\\u554a!\\u6211\\u8ddf\\u4f60\\u76f8\\u4f9d\\u4e3a\\u547d\\uff0c\\u540c\\u7518\\u5171\\u82e6\\u4e86\\u8fd9\\u4e48\\u591a\\u5e74\\uff0c\\u4e00\\u76f4\\u628a\\u4f60\\u5f53\\u4eb2\\u751f\\u9aa8\\u8089\\u4e00\\u6837\\u6559\\u4f60\\u517b\\u4f60\\uff0c\\u60f3\\u4e0d\\u5230\\u4eca\\u5929\\uff0c\\u767d\\u53d1\\u4eba\\u9001\\u9ed1\\u53d1\\u4eba!\",\n",
      "          \"sentence_id\": 2\n",
      "        },\n",
      "        {\n",
      "          \"_additional\": {\n",
      "            \"distance\": 964.86475\n",
      "          },\n",
      "          \"sentence\": \"\\u6740\\u4eba\\u8fd9\\u79cd\\u4e8b\\uff0c\\u6211\\u6574\\u5929\\u90fd\\u6709\\u8fd9\\u79cd\\u60f3\\u6cd5\\u7684\\u3002\",\n",
      "          \"sentence_id\": 5\n",
      "        },\n",
      "        {\n",
      "          \"_additional\": {\n",
      "            \"distance\": 968.46326\n",
      "          },\n",
      "          \"sentence\": \"\\u672c\\u6765\\u6211\\u8981\\u7528\\u8fd910\\u5143\\u94b1\\u5ff5\\u4e66\\uff0c\\u5f53\\u4e2a\\u533b\\u751f\\u3001\\u5f8b\\u5e08\\uff0c\\u4f46\\u4e3a\\u4e86\\u4e16\\u754c\\u548c\\u5e73\\u2026\\u2026\\u5509!\",\n",
      "          \"sentence_id\": 6\n",
      "        },\n",
      "        {\n",
      "          \"_additional\": {\n",
      "            \"distance\": 1012.2118\n",
      "          },\n",
      "          \"sentence\": \"\\u66fe\\u7ecf\\u6709\\u4e00\\u4efd\\u771f\\u8bda\\u7684\\u7231\\u6446\\u5728\\u6211\\u7684\\u9762\\u524d\\uff0c\\u4f46\\u662f\\u6211\\u6ca1\\u6709\\u73cd\\u60dc\\uff0c\\u7b49\\u5230\\u5931\\u53bb\\u7684\\u65f6\\u5019\\u624d\\u540e\\u6094\\u83ab\\u53ca\\uff0c\\u5c18\\u4e16\\u95f4\\u6700\\u75db\\u82e6\\u7684\\u4e8b\\u83ab\\u8fc7 \\u4e8e\\u6b64\\u3002\\u5982\\u679c\\u4e0a\\u5929\\u53ef\\u4ee5\\u7ed9\\u6211\\u4e2a\\u673a\\u4f1a\\u518d\\u6765\\u4e00\\u6b21\\u7684\\u8bdd\\uff0c\\u6211\\u4f1a\\u5bf9\\u8fd9\\u4e2a\\u5973\\u5b69\\u8bf4\\u6211\\u7231\\u5979\\uff0c\\u5982\\u679c\\u975e\\u8981\\u5728\\u8fd9\\u4efd\\u7231\\u52a0\\u4e0a\\u4e00\\u4e2a\\u671f\\u9650\\uff0c\\u6211\\u5e0c\\u671b\\u662f\\u4e00\\u4e07\\u5e74\\u2026\\u2026\",\n",
      "          \"sentence_id\": 3\n",
      "        }\n",
      "      ]\n",
      "    }\n",
      "  }\n",
      "}\n"
     ]
    }
   ],
   "source": [
    "print(json.dumps(response, indent=2))  # 看下输出"
   ]
  },
  {
   "cell_type": "code",
   "execution_count": 36,
   "id": "e4cf8677",
   "metadata": {
    "ExecuteTime": {
     "end_time": "2023-07-17T12:21:17.552555Z",
     "start_time": "2023-07-17T12:21:17.549399Z"
    },
    "scrolled": true
   },
   "outputs": [
    {
     "name": "stdout",
     "output_type": "stream",
     "text": [
      "====================\n",
      "除暴安良是我们做市民的责任，行善积德是我本身的兴趣，所以扶老太太过马路我每个星期都做一次，如果是碰到国定假日的话我还做多两三次。\n",
      "====================\n",
      "小强!小强你怎么了小强?小强，你不能死啊!我跟你相依为命，同甘共苦了这么多年，一直把你当亲生骨肉一样教你养你，想不到今天，白发人送黑发人!\n",
      "====================\n",
      "杀人这种事，我整天都有这种想法的。\n",
      "====================\n",
      "本来我要用这10元钱念书，当个医生、律师，但为了世界和平……唉!\n",
      "====================\n",
      "曾经有一份真诚的爱摆在我的面前，但是我没有珍惜，等到失去的时候才后悔莫及，尘世间最痛苦的事莫过 于此。如果上天可以给我个机会再来一次的话，我会对这个女孩说我爱她，如果非要在这份爱加上一个期限，我希望是一万年……\n"
     ]
    }
   ],
   "source": [
    "# 输出结果\n",
    "for i in response['data']['Get'][class_name]:\n",
    "    print('='*20)\n",
    "    print(i['sentence'])"
   ]
  },
  {
   "cell_type": "code",
   "execution_count": null,
   "id": "beb2dcf8",
   "metadata": {},
   "outputs": [],
   "source": []
  }
 ],
 "metadata": {
  "kernelspec": {
   "display_name": "Python [conda env:ljh_llm_env] *",
   "language": "python",
   "name": "conda-env-ljh_llm_env-py"
  },
  "language_info": {
   "codemirror_mode": {
    "name": "ipython",
    "version": 3
   },
   "file_extension": ".py",
   "mimetype": "text/x-python",
   "name": "python",
   "nbconvert_exporter": "python",
   "pygments_lexer": "ipython3",
   "version": "3.9.16"
  },
  "toc": {
   "base_numbering": 1,
   "nav_menu": {},
   "number_sections": true,
   "sideBar": true,
   "skip_h1_title": false,
   "title_cell": "Table of Contents",
   "title_sidebar": "Contents",
   "toc_cell": false,
   "toc_position": {
    "height": "calc(100% - 180px)",
    "left": "10px",
    "top": "150px",
    "width": "170.817px"
   },
   "toc_section_display": true,
   "toc_window_display": true
  },
  "varInspector": {
   "cols": {
    "lenName": 16,
    "lenType": 16,
    "lenVar": 40
   },
   "kernels_config": {
    "python": {
     "delete_cmd_postfix": "",
     "delete_cmd_prefix": "del ",
     "library": "var_list.py",
     "varRefreshCmd": "print(var_dic_list())"
    },
    "r": {
     "delete_cmd_postfix": ") ",
     "delete_cmd_prefix": "rm(",
     "library": "var_list.r",
     "varRefreshCmd": "cat(var_dic_list()) "
    }
   },
   "types_to_exclude": [
    "module",
    "function",
    "builtin_function_or_method",
    "instance",
    "_Feature"
   ],
   "window_display": false
  }
 },
 "nbformat": 4,
 "nbformat_minor": 5
}
